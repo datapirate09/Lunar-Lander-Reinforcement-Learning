{
  "nbformat": 4,
  "nbformat_minor": 0,
  "metadata": {
    "colab": {
      "provenance": [],
      "authorship_tag": "ABX9TyOLSfD8nnPrns2Wk2lNMgA1",
      "include_colab_link": true
    },
    "kernelspec": {
      "name": "python3",
      "display_name": "Python 3"
    },
    "language_info": {
      "name": "python"
    }
  },
  "cells": [
    {
      "cell_type": "markdown",
      "metadata": {
        "id": "view-in-github",
        "colab_type": "text"
      },
      "source": [
        "<a href=\"https://colab.research.google.com/github/datapirate09/Lunar-Lander-Reinforcement-Learning/blob/main/deep_q_network.ipynb\" target=\"_parent\"><img src=\"https://colab.research.google.com/assets/colab-badge.svg\" alt=\"Open In Colab\"/></a>"
      ]
    },
    {
      "cell_type": "code",
      "source": [
        "!apt install swig\n",
        "!pip install \"gymnasium[box2d]\""
      ],
      "metadata": {
        "colab": {
          "base_uri": "https://localhost:8080/"
        },
        "id": "WIxrVjX-qBmQ",
        "outputId": "69741f7e-8bf1-43df-8e1d-ff3b25c492d3"
      },
      "execution_count": 3,
      "outputs": [
        {
          "output_type": "stream",
          "name": "stdout",
          "text": [
            "Reading package lists... Done\n",
            "Building dependency tree... Done\n",
            "Reading state information... Done\n",
            "swig is already the newest version (4.0.2-1ubuntu1).\n",
            "0 upgraded, 0 newly installed, 0 to remove and 34 not upgraded.\n",
            "Requirement already satisfied: gymnasium[box2d] in /usr/local/lib/python3.11/dist-packages (1.1.1)\n",
            "Requirement already satisfied: numpy>=1.21.0 in /usr/local/lib/python3.11/dist-packages (from gymnasium[box2d]) (2.0.2)\n",
            "Requirement already satisfied: cloudpickle>=1.2.0 in /usr/local/lib/python3.11/dist-packages (from gymnasium[box2d]) (3.1.1)\n",
            "Requirement already satisfied: typing-extensions>=4.3.0 in /usr/local/lib/python3.11/dist-packages (from gymnasium[box2d]) (4.13.2)\n",
            "Requirement already satisfied: farama-notifications>=0.0.1 in /usr/local/lib/python3.11/dist-packages (from gymnasium[box2d]) (0.0.4)\n",
            "Requirement already satisfied: box2d-py==2.3.5 in /usr/local/lib/python3.11/dist-packages (from gymnasium[box2d]) (2.3.5)\n",
            "Requirement already satisfied: pygame>=2.1.3 in /usr/local/lib/python3.11/dist-packages (from gymnasium[box2d]) (2.6.1)\n",
            "Requirement already satisfied: swig==4.* in /usr/local/lib/python3.11/dist-packages (from gymnasium[box2d]) (4.3.1)\n"
          ]
        }
      ]
    },
    {
      "cell_type": "code",
      "execution_count": 34,
      "metadata": {
        "colab": {
          "base_uri": "https://localhost:8080/"
        },
        "id": "UNuybrUBptfc",
        "outputId": "77af7ff2-2dd7-4be0-a1cb-018a1859edbb"
      },
      "outputs": [
        {
          "output_type": "execute_result",
          "data": {
            "text/plain": [
              "<TimeLimit<OrderEnforcing<PassiveEnvChecker<LunarLander<LunarLander-v3>>>>>"
            ]
          },
          "metadata": {},
          "execution_count": 34
        }
      ],
      "source": [
        "import gymnasium as gym\n",
        "env = gym.make(\"LunarLander-v3\", render_mode=\"rgb_array\", continuous=False, gravity=-10.0,\n",
        "               enable_wind=False, wind_power=15.0, turbulence_power=1.5)\n",
        "env"
      ]
    },
    {
      "cell_type": "code",
      "source": [
        "import numpy as np\n",
        "import tensorflow as tf\n",
        "from tensorflow.keras.models import Sequential\n",
        "from tensorflow.keras.layers import Dense\n",
        "from tensorflow.keras.activations import linear, relu, sigmoid\n",
        "from collections import deque"
      ],
      "metadata": {
        "id": "0an3xSVqx6re"
      },
      "execution_count": 35,
      "outputs": []
    },
    {
      "cell_type": "code",
      "source": [
        "model_current = Sequential([\n",
        "        tf.keras.layers.InputLayer((8,)),\n",
        "        tf.keras.layers.Dense(128, activation=\"relu\", name=\"L1\"),\n",
        "        tf.keras.layers.Dense(128, activation=\"relu\", name=\"L2\"),\n",
        "        tf.keras.layers.Dense(4),\n",
        "])\n",
        "\n",
        "model_current.summary()\n",
        "\n",
        "model_previous = tf.keras.models.clone_model(model_current)\n",
        "model_previous.set_weights(model_current.get_weights())\n",
        "\n",
        "optimizer = tf.keras.optimizers.Adam(learning_rate=0.001)\n",
        "loss_fn = tf.keras.losses.MeanSquaredError()"
      ],
      "metadata": {
        "colab": {
          "base_uri": "https://localhost:8080/",
          "height": 238
        },
        "id": "2pl1pqs3x6mF",
        "outputId": "18d4992f-5a44-4ba3-e18b-b137cb33bdcb"
      },
      "execution_count": 36,
      "outputs": [
        {
          "output_type": "display_data",
          "data": {
            "text/plain": [
              "\u001b[1mModel: \"sequential_2\"\u001b[0m\n"
            ],
            "text/html": [
              "<pre style=\"white-space:pre;overflow-x:auto;line-height:normal;font-family:Menlo,'DejaVu Sans Mono',consolas,'Courier New',monospace\"><span style=\"font-weight: bold\">Model: \"sequential_2\"</span>\n",
              "</pre>\n"
            ]
          },
          "metadata": {}
        },
        {
          "output_type": "display_data",
          "data": {
            "text/plain": [
              "┏━━━━━━━━━━━━━━━━━━━━━━━━━━━━━━━━━┳━━━━━━━━━━━━━━━━━━━━━━━━┳━━━━━━━━━━━━━━━┓\n",
              "┃\u001b[1m \u001b[0m\u001b[1mLayer (type)                   \u001b[0m\u001b[1m \u001b[0m┃\u001b[1m \u001b[0m\u001b[1mOutput Shape          \u001b[0m\u001b[1m \u001b[0m┃\u001b[1m \u001b[0m\u001b[1m      Param #\u001b[0m\u001b[1m \u001b[0m┃\n",
              "┡━━━━━━━━━━━━━━━━━━━━━━━━━━━━━━━━━╇━━━━━━━━━━━━━━━━━━━━━━━━╇━━━━━━━━━━━━━━━┩\n",
              "│ L1 (\u001b[38;5;33mDense\u001b[0m)                      │ (\u001b[38;5;45mNone\u001b[0m, \u001b[38;5;34m128\u001b[0m)            │         \u001b[38;5;34m1,152\u001b[0m │\n",
              "├─────────────────────────────────┼────────────────────────┼───────────────┤\n",
              "│ L2 (\u001b[38;5;33mDense\u001b[0m)                      │ (\u001b[38;5;45mNone\u001b[0m, \u001b[38;5;34m128\u001b[0m)            │        \u001b[38;5;34m16,512\u001b[0m │\n",
              "├─────────────────────────────────┼────────────────────────┼───────────────┤\n",
              "│ dense_2 (\u001b[38;5;33mDense\u001b[0m)                 │ (\u001b[38;5;45mNone\u001b[0m, \u001b[38;5;34m4\u001b[0m)              │           \u001b[38;5;34m516\u001b[0m │\n",
              "└─────────────────────────────────┴────────────────────────┴───────────────┘\n"
            ],
            "text/html": [
              "<pre style=\"white-space:pre;overflow-x:auto;line-height:normal;font-family:Menlo,'DejaVu Sans Mono',consolas,'Courier New',monospace\">┏━━━━━━━━━━━━━━━━━━━━━━━━━━━━━━━━━┳━━━━━━━━━━━━━━━━━━━━━━━━┳━━━━━━━━━━━━━━━┓\n",
              "┃<span style=\"font-weight: bold\"> Layer (type)                    </span>┃<span style=\"font-weight: bold\"> Output Shape           </span>┃<span style=\"font-weight: bold\">       Param # </span>┃\n",
              "┡━━━━━━━━━━━━━━━━━━━━━━━━━━━━━━━━━╇━━━━━━━━━━━━━━━━━━━━━━━━╇━━━━━━━━━━━━━━━┩\n",
              "│ L1 (<span style=\"color: #0087ff; text-decoration-color: #0087ff\">Dense</span>)                      │ (<span style=\"color: #00d7ff; text-decoration-color: #00d7ff\">None</span>, <span style=\"color: #00af00; text-decoration-color: #00af00\">128</span>)            │         <span style=\"color: #00af00; text-decoration-color: #00af00\">1,152</span> │\n",
              "├─────────────────────────────────┼────────────────────────┼───────────────┤\n",
              "│ L2 (<span style=\"color: #0087ff; text-decoration-color: #0087ff\">Dense</span>)                      │ (<span style=\"color: #00d7ff; text-decoration-color: #00d7ff\">None</span>, <span style=\"color: #00af00; text-decoration-color: #00af00\">128</span>)            │        <span style=\"color: #00af00; text-decoration-color: #00af00\">16,512</span> │\n",
              "├─────────────────────────────────┼────────────────────────┼───────────────┤\n",
              "│ dense_2 (<span style=\"color: #0087ff; text-decoration-color: #0087ff\">Dense</span>)                 │ (<span style=\"color: #00d7ff; text-decoration-color: #00d7ff\">None</span>, <span style=\"color: #00af00; text-decoration-color: #00af00\">4</span>)              │           <span style=\"color: #00af00; text-decoration-color: #00af00\">516</span> │\n",
              "└─────────────────────────────────┴────────────────────────┴───────────────┘\n",
              "</pre>\n"
            ]
          },
          "metadata": {}
        },
        {
          "output_type": "display_data",
          "data": {
            "text/plain": [
              "\u001b[1m Total params: \u001b[0m\u001b[38;5;34m18,180\u001b[0m (71.02 KB)\n"
            ],
            "text/html": [
              "<pre style=\"white-space:pre;overflow-x:auto;line-height:normal;font-family:Menlo,'DejaVu Sans Mono',consolas,'Courier New',monospace\"><span style=\"font-weight: bold\"> Total params: </span><span style=\"color: #00af00; text-decoration-color: #00af00\">18,180</span> (71.02 KB)\n",
              "</pre>\n"
            ]
          },
          "metadata": {}
        },
        {
          "output_type": "display_data",
          "data": {
            "text/plain": [
              "\u001b[1m Trainable params: \u001b[0m\u001b[38;5;34m18,180\u001b[0m (71.02 KB)\n"
            ],
            "text/html": [
              "<pre style=\"white-space:pre;overflow-x:auto;line-height:normal;font-family:Menlo,'DejaVu Sans Mono',consolas,'Courier New',monospace\"><span style=\"font-weight: bold\"> Trainable params: </span><span style=\"color: #00af00; text-decoration-color: #00af00\">18,180</span> (71.02 KB)\n",
              "</pre>\n"
            ]
          },
          "metadata": {}
        },
        {
          "output_type": "display_data",
          "data": {
            "text/plain": [
              "\u001b[1m Non-trainable params: \u001b[0m\u001b[38;5;34m0\u001b[0m (0.00 B)\n"
            ],
            "text/html": [
              "<pre style=\"white-space:pre;overflow-x:auto;line-height:normal;font-family:Menlo,'DejaVu Sans Mono',consolas,'Courier New',monospace\"><span style=\"font-weight: bold\"> Non-trainable params: </span><span style=\"color: #00af00; text-decoration-color: #00af00\">0</span> (0.00 B)\n",
              "</pre>\n"
            ]
          },
          "metadata": {}
        }
      ]
    },
    {
      "cell_type": "code",
      "source": [
        "import random\n",
        "actions = [0, 1, 2, 3] # 0- nothing 1 - fire left 2 - fire main 3 - fire right\n",
        "\n",
        "def epsilon_greedy(state, epsilon):\n",
        "    if random.random() < epsilon:\n",
        "        return random.choice(actions)\n",
        "    else:\n",
        "        q_values = model_current.predict(np.expand_dims(state, axis=0), verbose=0)[0]\n",
        "        best_action = np.argmax(q_values)\n",
        "        return best_action"
      ],
      "metadata": {
        "id": "EySOMQsHy3dj"
      },
      "execution_count": 37,
      "outputs": []
    },
    {
      "cell_type": "code",
      "source": [
        "position, _ = env.reset()\n",
        "next_state, reward, _, _, _ = env.step(0)\n",
        "print(next_state)"
      ],
      "metadata": {
        "colab": {
          "base_uri": "https://localhost:8080/"
        },
        "id": "0XUqUlTlEYN9",
        "outputId": "b298cbe9-fdc6-4ab5-9e7e-b6e6ef2accb3"
      },
      "execution_count": 38,
      "outputs": [
        {
          "output_type": "stream",
          "name": "stdout",
          "text": [
            "[ 0.00770121  1.4327478   0.38947675  0.4721913  -0.00882024 -0.0873109\n",
            "  0.          0.        ]\n"
          ]
        }
      ]
    },
    {
      "cell_type": "code",
      "source": [
        "import matplotlib.pyplot as plt\n",
        "from IPython.display import clear_output\n",
        "import time\n",
        "\n",
        "no_of_episodes = 100\n",
        "gamma = 0.99\n",
        "replay_memory = deque(maxlen=100_000)\n",
        "batch_size = 64\n",
        "epsilon = 1.0\n",
        "epsilon_decay = 0.995\n",
        "min_epsilon = 0.01\n",
        "target_update_freq = 10\n",
        "# env.reset()\n",
        "\n",
        "fig, ax = plt.subplots()\n",
        "\n",
        "for episode in range(no_of_episodes):\n",
        "  current_state, _ = env.reset()\n",
        "  if episode == 99:\n",
        "    frame = env.render()\n",
        "    ax.imshow(frame)\n",
        "    ax.axis('off')\n",
        "    clear_output(wait=True)\n",
        "    display(fig)\n",
        "    time.sleep(0.05)\n",
        "  end_of_episode = False\n",
        "  while not end_of_episode:\n",
        "    action_to_take = epsilon_greedy(current_state, epsilon)\n",
        "    next_state, reward, terminated, truncated, _ = env.step(action_to_take)\n",
        "    if episode == 99:\n",
        "      frame = env.render()\n",
        "      ax.imshow(frame)\n",
        "      ax.axis('off')\n",
        "      clear_output(wait=True)\n",
        "      display(fig)\n",
        "      time.sleep(0.05)\n",
        "    end_of_episode = terminated or truncated\n",
        "    replay_memory.append((current_state, action_to_take, reward, next_state, end_of_episode))\n",
        "    current_state = next_state\n",
        "    if len(replay_memory) >= batch_size:\n",
        "      mini_batch = random.sample(replay_memory, batch_size)\n",
        "      states = np.array([x[0] for x in mini_batch])\n",
        "      actions = np.array([x[1] for x in mini_batch])\n",
        "      rewards = np.array([x[2] for x in mini_batch])\n",
        "      next_states = np.array([x[3] for x in mini_batch])\n",
        "      episode_ends = np.array([x[4] for x in mini_batch])\n",
        "      q_vals = model_previous.predict(next_states, verbose=0)\n",
        "      max_qvals = np.max(q_vals, axis=1)\n",
        "      targets = rewards + (1-episode_ends)*gamma*max_qvals\n",
        "      with tf.GradientTape() as tape:\n",
        "        q_values = model_current(states, training=True)\n",
        "        action_qs = tf.reduce_sum(q_values * tf.one_hot(actions, 4), axis=1)\n",
        "        loss = loss_fn(targets, action_qs)\n",
        "      grads = tape.gradient(loss, model_current.trainable_variables)\n",
        "      optimizer.apply_gradients(zip(grads, model_current.trainable_variables))\n",
        "  if epsilon > min_epsilon:\n",
        "    epsilon *= epsilon_decay\n",
        "    epsilon = max(min_epsilon, epsilon)\n",
        "  if episode % target_update_freq == 0:\n",
        "    model_previous.set_weights(model_current.get_weights())\n",
        "\n",
        "  print(f\"Episode {episode} | Epsilon: {epsilon:.3f}\")"
      ],
      "metadata": {
        "colab": {
          "base_uri": "https://localhost:8080/",
          "height": 734
        },
        "id": "1a00wEDgD6JQ",
        "outputId": "6a14641a-4661-4502-c706-219666de769f"
      },
      "execution_count": 45,
      "outputs": [
        {
          "output_type": "display_data",
          "data": {
            "text/plain": [
              "<Figure size 640x480 with 1 Axes>"
            ],
            "image/png": "[encoded data removed]"
          },
          "metadata": {}
        },
        {
          "output_type": "stream",
          "name": "stdout",
          "text": [
            "Episode 99 | Epsilon: 0.606\n"
          ]
        },
        {
          "output_type": "display_data",
          "data": {
            "text/plain": [
              "<Figure size 640x480 with 1 Axes>"
            ],
            "image/png": "[encoded data removed]"
          },
          "metadata": {}
        }
      ]
    }
  ]
}